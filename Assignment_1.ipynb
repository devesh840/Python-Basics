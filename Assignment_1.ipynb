{
  "nbformat": 4,
  "nbformat_minor": 0,
  "metadata": {
    "colab": {
      "provenance": []
    },
    "kernelspec": {
      "name": "python3",
      "display_name": "Python 3"
    },
    "language_info": {
      "name": "python"
    }
  },
  "cells": [
    {
      "cell_type": "markdown",
      "source": [
        "1) What is Python, and why is it popular?\n",
        "\n",
        "Python is a high-level, interpreted programming language known for its simplicity and readability. It was created by Guido van Rossum and first released in 1991. Python's easy-to-learn syntax emphasizes code readability, making it ideal for beginners and experienced developers alike. It supports multiple programming paradigms, including procedural, object-oriented, and functional programming. Python is widely used in web development, data science, artificial intelligence, automation, and more. Its popularity stems from a vast standard library, strong community support, and compatibility with other languages and platforms. Additionally, frameworks like Django, Flask, and TensorFlow have further boosted Python's adoption across various industries.\n",
        "\n",
        "\n",
        "\n",
        "\n",
        "\n",
        "\n",
        "\n",
        "\n",
        "\n",
        "\n",
        "\n",
        "\n"
      ],
      "metadata": {
        "id": "Iz4D2E6nOnTs"
      }
    },
    {
      "cell_type": "markdown",
      "source": [
        "2) What is an interpreter in Python?\n",
        "\n",
        "In Python, an interpreter is a program that executes Python code line by line, converting it into machine-readable instructions. Unlike compiled languages, where the entire code is transformed into machine code before execution, Python’s interpreter processes code dynamically at runtime. This makes debugging easier and allows for quick testing of code snippets. The Python interpreter reads the source code, converts it into an intermediate form called bytecode, and then executes it using the Python Virtual Machine (PVM). Python provides different interpreters, such as CPython (the default), PyPy, Jython, and IronPython, each optimized for specific use cases.\n",
        "\n",
        "\n",
        "\n",
        "\n",
        "\n",
        "\n",
        "\n"
      ],
      "metadata": {
        "id": "EjVBBmLbPBjw"
      }
    },
    {
      "cell_type": "markdown",
      "source": [
        "3) What are pre-defined keywords in Python?\n",
        "\n",
        "In Python, pre-defined keywords are reserved words that have special meanings and cannot be used as variable names, function names, or identifiers. These keywords are part of Python’s syntax and help define the structure and functionality of the language. Python has a fixed set of keywords that may vary slightly between versions.\n",
        "\n",
        "Some common Python keywords include:\n",
        "\n",
        "Control Flow: if, else, elif, while, for, break, continue, pass\n",
        "Function and Class Definition: def, class, return, lambda\n",
        "Exception Handling: try, except, finally, raise, assert\n",
        "Logical and Boolean Operators: and, or, not, True, False, None\n",
        "Variable Scope and Importing Modules: global, nonlocal, import, from, as\n",
        "Object-Oriented Programming: self, super, is, in\n",
        "Others: del, with, yield, async, await"
      ],
      "metadata": {
        "id": "3M2OkcRtPSdV"
      }
    },
    {
      "cell_type": "markdown",
      "source": [
        "4) Can keywords be used as variable names?\n",
        "\n",
        "No, keywords cannot be used as variable names in Python because they are reserved words that have special meanings in the language. Python keywords define the syntax and structure of the code, such as control flow (if, else), loops (for, while), and function definitions (def, return). Using a keyword as a variable name would cause a syntax error because the interpreter would not be able to distinguish between the intended use of the keyword and a regular variable. To avoid conflicts, Python strictly prohibits using keywords as identifiers. If you need a similar name, you can modify it slightly, such as adding an underscore (class_ instead of class). You can check all Python keywords using the keyword module to ensure you are not using any reserved words in your variable names."
      ],
      "metadata": {
        "id": "9tW3Zb9APouq"
      }
    },
    {
      "cell_type": "markdown",
      "source": [
        "5) What is mutability in Python?\n",
        "\n",
        "Mutability in Python refers to an object's ability to be changed after it is created. Python data types are classified into mutable and immutable types based on whether their values can be modified in place. Mutable objects, such as lists, dictionaries, and sets, allow changes to their contents without changing their memory address. This means you can modify elements, add new items, or remove existing ones. In contrast, immutable objects, such as strings, tuples, and integers, cannot be changed once created—any modification results in the creation of a new object with a different memory address. Understanding mutability is important for optimizing memory usage and avoiding unintended side effects in Python programs, especially when working with function arguments and data structures."
      ],
      "metadata": {
        "id": "A6RlhuaHQILJ"
      }
    },
    {
      "cell_type": "markdown",
      "source": [
        "6) Why are lists mutable, but tuples are immutable?\n",
        "\n",
        " Lists are mutable in Python because they are designed to be dynamic and allow modifications such as adding, removing, or changing elements. This is possible because lists store references to their elements, and Python provides the flexibility to update these references in memory. On the other hand, tuples are immutable because they are meant to be fixed collections of data. Once a tuple is created, its elements cannot be changed, ensuring data integrity and optimization in memory usage. Tuples are stored in a way that avoids unnecessary modifications, making them faster and more memory-efficient than lists. This immutability also makes tuples safer for use as dictionary keys and in scenarios where data should remain constant."
      ],
      "metadata": {
        "id": "oncE-eu5pG0d"
      }
    },
    {
      "cell_type": "markdown",
      "source": [
        "7) What is the difference between “==” and “is” operators in Python?\n",
        "\n",
        "The == operator in Python is used for value comparison, meaning it checks whether two variables have the same value, regardless of whether they refer to the same object in memory. On the other hand, the is operator is used for identity comparison, meaning it checks whether two variables refer to the same memory location (object). For example, a == b returns True if a and b contain the same data, while a is b returns True only if a and b point to the same object in memory. This distinction is especially important for mutable objects like lists, where two lists can have the same content but exist as separate objects in memory."
      ],
      "metadata": {
        "id": "dvAoXtw6pbuv"
      }
    },
    {
      "cell_type": "markdown",
      "source": [
        "8) What are logical operators in Python?\n",
        "\n",
        "Logical operators in Python are used to combine multiple conditions and return a Boolean result (True or False). There are three main logical operators: and, or, and not. The and operator returns True only if both conditions are true; otherwise, it returns False. The or operator returns True if at least one of the conditions is true. The not operator reverses the Boolean value of an expression, converting True to False and vice versa. These operators are commonly used in conditional statements like if, while, and for loops to control program flow based on multiple conditions."
      ],
      "metadata": {
        "id": "8dvanLG_pw2J"
      }
    },
    {
      "cell_type": "markdown",
      "source": [
        "9) What is type casting in Python?\n",
        "\n",
        "Type casting in Python refers to the process of converting a variable from one data type to another. Python provides two types of type casting: implicit and explicit. Implicit type casting is done automatically by Python when converting smaller data types to larger ones, such as converting an integer (int) to a float (float) without loss of information. Explicit type casting, also known as type conversion, is done manually using built-in functions like int(), float(), str(), and bool(). This is useful when dealing with user input (which is always a string) or when performing mathematical operations that require specific data types. However, improper type casting can lead to errors if the conversion is not compatible, such as trying to convert a string with letters into an integer."
      ],
      "metadata": {
        "id": "Ef766C-FqB0x"
      }
    },
    {
      "cell_type": "markdown",
      "source": [
        "10) What is the difference between implicit and explicit type casting?\n",
        "\n",
        "The difference between implicit and explicit type casting in Python lies in how the conversion is performed. Implicit type casting is automatically handled by Python when converting a smaller data type to a larger one without data loss. For example, when an integer (int) is added to a float (float), Python automatically converts the integer to a float to maintain precision. On the other hand, explicit type casting requires manual conversion using functions like int(), float(), str(), or bool(). This is necessary when converting incompatible types, such as converting a string (\"123\") into an integer (int(\"123\")). While implicit casting ensures seamless conversions, explicit casting gives the programmer control over data types but requires careful handling to avoid errors."
      ],
      "metadata": {
        "id": "5L1tVOiaqjhm"
      }
    },
    {
      "cell_type": "markdown",
      "source": [
        "11) What is the purpose of conditional statements in Python?\n",
        "\n",
        "The purpose of conditional statements in Python is to enable decision-making in a program by executing different blocks of code based on specific conditions. Conditional statements, such as if, elif, and else, allow a program to respond dynamically to different inputs or scenarios. The if statement checks a condition and executes a block of code if the condition is True. The elif (else if) statement provides additional conditions to check if the first condition is False. The else statement executes a block of code when all previous conditions are False. These statements help control the program’s flow, making it more interactive and responsive by allowing it to make logical decisions based on given conditions.\n",
        "\n",
        "\n",
        "\n",
        "\n",
        "\n",
        "\n",
        "\n"
      ],
      "metadata": {
        "id": "w80HhyM_q3Ro"
      }
    },
    {
      "cell_type": "markdown",
      "source": [
        "12) How does the elif statement work?\n",
        "\n",
        "The elif statement in Python works as an extension of the if statement, allowing multiple conditions to be checked sequentially. When an if condition evaluates to False, Python moves to the elif condition and checks if it is True. If the elif condition is True, its corresponding block of code is executed, and the rest of the conditions are ignored. If none of the if or elif conditions are True, an optional else statement can be used to execute a default block of code. The elif statement is useful for handling multiple possible scenarios without writing multiple separate if statements, making the code more efficient and readable.\n",
        "\n",
        "\n",
        "\n",
        "\n",
        "\n",
        "\n",
        "\n"
      ],
      "metadata": {
        "id": "rWARARDnrK6c"
      }
    },
    {
      "cell_type": "markdown",
      "source": [
        "13)  What is the difference between for and while loops?\n",
        "\n",
        "The difference between for and while loops in Python lies in their usage and structure. A for loop is used when the number of iterations is known or when iterating over a sequence (such as a list, tuple, or string). It uses the range() function or directly iterates through elements, making it ideal for tasks like looping through a list or performing a fixed number of operations. A while loop, on the other hand, is used when the number of iterations is unknown and depends on a condition being True. It continues executing as long as the specified condition remains True and is useful for situations where a loop should run until a particular event occurs, such as user input validation. While loops require careful handling to avoid infinite loops, whereas for loops provide a structured and predictable iteration process."
      ],
      "metadata": {
        "id": "rNIiwKL9rfw2"
      }
    },
    {
      "cell_type": "markdown",
      "source": [
        "14) Describe a scenario where a while loop is more suitable than a for loop\n",
        "\n",
        "A while loop is more suitable than a for loop in scenarios where the number of iterations is unknown and depends on a specific condition being met. For example, in a user authentication system, a while loop can continuously prompt the user for a correct password until they enter the right one. Since the number of attempts required is uncertain, a while loop is ideal. Another common scenario is reading data from a file or an external source where the amount of data is unknown, and the loop should run until there is no more data to process. Unlike a for loop, which is best for a fixed number of iterations, a while loop provides flexibility by executing as long as a condition remains True.\n",
        "\n",
        "\n",
        "\n",
        "\n",
        "\n",
        "\n",
        "\n"
      ],
      "metadata": {
        "id": "lwZZnW7dryZG"
      }
    },
    {
      "cell_type": "code",
      "source": [
        "# 1) Write a Python program to print \"Hello, World!\"\n",
        "print(\"Hello World!\")"
      ],
      "metadata": {
        "colab": {
          "base_uri": "https://localhost:8080/",
          "height": 0
        },
        "id": "VFADWXpYbwE4",
        "outputId": "9e4095de-0a03-4da3-efdd-eb3441af5545"
      },
      "execution_count": 1,
      "outputs": [
        {
          "output_type": "stream",
          "name": "stdout",
          "text": [
            "Hello World!\n"
          ]
        }
      ]
    },
    {
      "cell_type": "code",
      "source": [
        "# 2) Write a Python program that displays your name and age ?\n",
        "input(\"What is your name and age? \")"
      ],
      "metadata": {
        "colab": {
          "base_uri": "https://localhost:8080/",
          "height": 53
        },
        "id": "a9B9NVpKcHl5",
        "outputId": "44853d09-9b04-431a-fe5e-945d3701fd2c"
      },
      "execution_count": 4,
      "outputs": [
        {
          "name": "stdout",
          "output_type": "stream",
          "text": [
            "What is your name and age? DEVESH RAJ RATHORE, 23\n"
          ]
        },
        {
          "output_type": "execute_result",
          "data": {
            "text/plain": [
              "'DEVESH RAJ RATHORE, 23'"
            ],
            "application/vnd.google.colaboratory.intrinsic+json": {
              "type": "string"
            }
          },
          "metadata": {},
          "execution_count": 4
        }
      ]
    },
    {
      "cell_type": "code",
      "source": [
        "# 3) Write code to print all the pre-defined keywords in Python using the keyword library?\n",
        "import keyword\n",
        "\n",
        "# Get the list of all Python keywords\n",
        "keywords_list = keyword.kwlist\n",
        "\n",
        "# Print all keywords\n",
        "print(\"Python Keywords:\")\n",
        "for kw in keywords_list:\n",
        "    print(kw)\n"
      ],
      "metadata": {
        "colab": {
          "base_uri": "https://localhost:8080/",
          "height": 0
        },
        "id": "valHQgFqdusL",
        "outputId": "7921d6f4-469b-432e-b1eb-6c2969ea4526"
      },
      "execution_count": 5,
      "outputs": [
        {
          "output_type": "stream",
          "name": "stdout",
          "text": [
            "Python Keywords:\n",
            "False\n",
            "None\n",
            "True\n",
            "and\n",
            "as\n",
            "assert\n",
            "async\n",
            "await\n",
            "break\n",
            "class\n",
            "continue\n",
            "def\n",
            "del\n",
            "elif\n",
            "else\n",
            "except\n",
            "finally\n",
            "for\n",
            "from\n",
            "global\n",
            "if\n",
            "import\n",
            "in\n",
            "is\n",
            "lambda\n",
            "nonlocal\n",
            "not\n",
            "or\n",
            "pass\n",
            "raise\n",
            "return\n",
            "try\n",
            "while\n",
            "with\n",
            "yield\n"
          ]
        }
      ]
    },
    {
      "cell_type": "code",
      "source": [
        "# 4) 0 Write a program that checks if a given word is a Python keyword?\n",
        "import keyword\n",
        "\n",
        "# Function to check if a word is a Python keyword\n",
        "def is_keyword(word):\n",
        "    return keyword.iskeyword(word)\n",
        "\n",
        "# Take user input\n",
        "word = input(\"Enter a word: \")\n",
        "\n",
        "# Check and display the result\n",
        "if is_keyword(word):\n",
        "    print(f\"'{word}' is a Python keyword.\")\n",
        "else:\n",
        "    print(f\"'{word}' is NOT a Python keyword.\")\n"
      ],
      "metadata": {
        "colab": {
          "base_uri": "https://localhost:8080/",
          "height": 0
        },
        "id": "kW-633gsd7zg",
        "outputId": "4ecfeda8-20a9-4c1d-bba3-c10e06aa9593"
      },
      "execution_count": 8,
      "outputs": [
        {
          "output_type": "stream",
          "name": "stdout",
          "text": [
            "Enter a word: if\n",
            "'if' is a Python keyword.\n"
          ]
        }
      ]
    },
    {
      "cell_type": "code",
      "source": [
        "# 5) Create a list and tuple in Python, and demonstrate how attempting to change an element works differently\n",
        "for each0\n",
        "# Creating a list (mutable)\n",
        "my_list = [1, 2, 3, 4, 5]\n",
        "print(\"Original list:\", my_list)\n",
        "\n",
        "# Modifying an element in the list\n",
        "my_list[2] = 10\n",
        "print(\"Modified list:\", my_list)  # This works because lists are mutable\n",
        "\n",
        "# Creating a tuple (immutable)\n",
        "my_tuple = (1, 2, 3, 4, 5)\n",
        "print(\"\\nOriginal tuple:\", my_tuple)\n",
        "\n",
        "# Attempting to modify an element in the tuple\n",
        "try:\n",
        "    my_tuple[2] = 10  # This will raise a TypeError\n",
        "except TypeError as e:\n",
        "    print(\"Error:\", e)\n"
      ],
      "metadata": {
        "colab": {
          "base_uri": "https://localhost:8080/",
          "height": 0
        },
        "id": "htmhOEsIeeFB",
        "outputId": "ce972f9e-4490-4799-8c8e-da1b374226f9"
      },
      "execution_count": 9,
      "outputs": [
        {
          "output_type": "stream",
          "name": "stdout",
          "text": [
            "Original list: [1, 2, 3, 4, 5]\n",
            "Modified list: [1, 2, 10, 4, 5]\n",
            "\n",
            "Original tuple: (1, 2, 3, 4, 5)\n",
            "Error: 'tuple' object does not support item assignment\n"
          ]
        }
      ]
    },
    {
      "cell_type": "code",
      "source": [
        "# 6) Write a function to demonstrate the behavior of mutable and immutable arguments0\n",
        "# Function to modify mutable and immutable arguments\n",
        "def modify_values(num, lst):\n",
        "    num += 10  # This won't affect the original variable (immutable)\n",
        "    lst.append(10)  # This modifies the original list (mutable)\n",
        "\n",
        "# Immutable argument (integer)\n",
        "x = 5\n",
        "# Mutable argument (list)\n",
        "my_list = [1, 2, 3]\n",
        "\n",
        "print(\"Before function call:\")\n",
        "print(\"x =\", x)\n",
        "print(\"my_list =\", my_list)\n",
        "\n",
        "# Call function\n",
        "modify_values(x, my_list)\n",
        "\n",
        "print(\"\\nAfter function call:\")\n",
        "print(\"x =\", x)  # Unchanged because integers are immutable\n",
        "print(\"my_list =\", my_list)  # Changed because lists are mutable\n"
      ],
      "metadata": {
        "colab": {
          "base_uri": "https://localhost:8080/",
          "height": 0
        },
        "id": "8EC6RV3cgNhn",
        "outputId": "405feccc-6da9-4dde-84bb-7ed4a68856e2"
      },
      "execution_count": 10,
      "outputs": [
        {
          "output_type": "stream",
          "name": "stdout",
          "text": [
            "Before function call:\n",
            "x = 5\n",
            "my_list = [1, 2, 3]\n",
            "\n",
            "After function call:\n",
            "x = 5\n",
            "my_list = [1, 2, 3, 10]\n"
          ]
        }
      ]
    },
    {
      "cell_type": "code",
      "source": [
        "# 7) Write a function to demonstrate the behavior of mutable and immutable arguments\n",
        "# Function to modify mutable and immutable arguments\n",
        "def modify_values(num, lst):\n",
        "    num += 10  # This change is local; integers are immutable\n",
        "    lst.append(10)  # This modifies the original list; lists are mutable\n",
        "\n",
        "# Immutable argument (integer)\n",
        "x = 5\n",
        "# Mutable argument (list)\n",
        "my_list = [1, 2, 3]\n",
        "\n",
        "print(\"Before function call:\")\n",
        "print(\"x =\", x)\n",
        "print(\"my_list =\", my_list)\n",
        "\n",
        "# Call function\n",
        "modify_values(x, my_list)\n",
        "\n",
        "print(\"\\nAfter function call:\")\n",
        "print(\"x =\", x)  # Unchanged because integers are immutable\n",
        "print(\"my_list =\", my_list)  # Changed because lists are mutable\n"
      ],
      "metadata": {
        "colab": {
          "base_uri": "https://localhost:8080/",
          "height": 0
        },
        "id": "-ec-WVFkhazL",
        "outputId": "42e64314-0c9f-4391-9a25-b99b0ad0cb62"
      },
      "execution_count": 11,
      "outputs": [
        {
          "output_type": "stream",
          "name": "stdout",
          "text": [
            "Before function call:\n",
            "x = 5\n",
            "my_list = [1, 2, 3]\n",
            "\n",
            "After function call:\n",
            "x = 5\n",
            "my_list = [1, 2, 3, 10]\n"
          ]
        }
      ]
    },
    {
      "cell_type": "code",
      "source": [
        "# 8) Write a program to demonstrate the use of logical operators\n",
        "# Logical Operators Demonstration\n",
        "\n",
        "a = True\n",
        "b = False\n",
        "\n",
        "# Using 'and' operator (True if both conditions are True)\n",
        "print(\"a and b:\", a and b)  # False\n",
        "\n",
        "# Using 'or' operator (True if at least one condition is True)\n",
        "print(\"a or b:\", a or b)  # True\n",
        "\n",
        "# Using 'not' operator (Negates the value)\n",
        "print(\"not a:\", not a)  # False\n",
        "print(\"not b:\", not b)  # True\n",
        "\n",
        "# Logical operators with numbers\n",
        "x = 10\n",
        "y = 5\n",
        "\n",
        "print(\"\\nUsing logical operators with comparisons:\")\n",
        "print(\"(x > 5) and (y < 10):\", (x > 5) and (y < 10))  # True\n",
        "print(\"(x < 5) or (y == 5):\", (x < 5) or (y == 5))  # True\n",
        "print(\"not (x == 10):\", not (x == 10))  # False\n"
      ],
      "metadata": {
        "colab": {
          "base_uri": "https://localhost:8080/",
          "height": 0
        },
        "id": "PHVkxrjxh-TA",
        "outputId": "19979fc9-021e-41ef-e10b-421f626f6c40"
      },
      "execution_count": 12,
      "outputs": [
        {
          "output_type": "stream",
          "name": "stdout",
          "text": [
            "a and b: False\n",
            "a or b: True\n",
            "not a: False\n",
            "not b: True\n",
            "\n",
            "Using logical operators with comparisons:\n",
            "(x > 5) and (y < 10): True\n",
            "(x < 5) or (y == 5): True\n",
            "not (x == 10): False\n"
          ]
        }
      ]
    },
    {
      "cell_type": "code",
      "source": [
        "# 9) Write a Python program to convert user input from string to integer, float, and boolean types\n",
        "# Take user input as a string\n",
        "user_input = input(\"Enter a value: \")\n",
        "\n",
        "# Convert to integer\n",
        "try:\n",
        "    int_value = int(user_input)\n",
        "    print(\"Integer:\", int_value)\n",
        "except ValueError:\n",
        "    print(\"Cannot convert to Integer\")\n",
        "\n",
        "# Convert to float\n",
        "try:\n",
        "    float_value = float(user_input)\n",
        "    print(\"Float:\", float_value)\n",
        "except ValueError:\n",
        "    print(\"Cannot convert to Float\")\n",
        "\n",
        "# Convert to boolean\n",
        "bool_value = bool(user_input)  # Empty string -> False, Non-empty -> True\n",
        "print(\"Boolean:\", bool_value)\n"
      ],
      "metadata": {
        "colab": {
          "base_uri": "https://localhost:8080/",
          "height": 0
        },
        "id": "NXNv2NjRmZ0d",
        "outputId": "e7474f0a-157b-4c6b-b95f-dea2cb12cac3"
      },
      "execution_count": 13,
      "outputs": [
        {
          "output_type": "stream",
          "name": "stdout",
          "text": [
            "Enter a value: 2\n",
            "Integer: 2\n",
            "Float: 2.0\n",
            "Boolean: True\n"
          ]
        }
      ]
    },
    {
      "cell_type": "code",
      "source": [
        "# 10) Write code to demonstrate type casting with list elements\n",
        "# Original list with string elements\n",
        "str_list = [\"10\", \"20\", \"30\", \"40.5\", \"50.8\", \"\", \"True\", \"False\"]\n",
        "\n",
        "# Convert list elements to integers (ignoring non-integer values)\n",
        "int_list = []\n",
        "for item in str_list:\n",
        "    try:\n",
        "        int_list.append(int(float(item)))  # Convert to float first to handle decimal numbers\n",
        "    except ValueError:\n",
        "        int_list.append(None)  # Use None for non-convertible values\n",
        "\n",
        "print(\"Integer List:\", int_list)\n",
        "\n",
        "# Convert list elements to floats\n",
        "float_list = []\n",
        "for item in str_list:\n",
        "    try:\n",
        "        float_list.append(float(item))\n",
        "    except ValueError:\n",
        "        float_list.append(None)\n",
        "\n",
        "print(\"Float List:\", float_list)\n",
        "\n",
        "# Convert list elements to booleans\n",
        "bool_list = [bool(item) for item in str_list]  # Empty string -> False, Non-empty -> True\n",
        "\n",
        "print(\"Boolean List:\", bool_list)\n"
      ],
      "metadata": {
        "colab": {
          "base_uri": "https://localhost:8080/",
          "height": 0
        },
        "id": "KFlPbqgdmpk1",
        "outputId": "db1e627b-6b1b-40ae-b99f-8b30a2eacddb"
      },
      "execution_count": 14,
      "outputs": [
        {
          "output_type": "stream",
          "name": "stdout",
          "text": [
            "Integer List: [10, 20, 30, 40, 50, None, None, None]\n",
            "Float List: [10.0, 20.0, 30.0, 40.5, 50.8, None, None, None]\n",
            "Boolean List: [True, True, True, True, True, False, True, True]\n"
          ]
        }
      ]
    },
    {
      "cell_type": "code",
      "source": [
        "# 11) Write a program that checks if a number is positive, negative, or zero\n",
        "# Take user input\n",
        "num = float(input(\"Enter a number: \"))\n",
        "\n",
        "# Check if the number is positive, negative, or zero\n",
        "if num > 0:\n",
        "    print(\"The number is Positive.\")\n",
        "elif num < 0:\n",
        "    print(\"The number is Negative.\")\n",
        "else:\n",
        "    print(\"The number is Zero.\")\n"
      ],
      "metadata": {
        "colab": {
          "base_uri": "https://localhost:8080/",
          "height": 0
        },
        "id": "8grtc08am-fu",
        "outputId": "1fba9c6c-abc1-45ed-e750-8a341f361341"
      },
      "execution_count": 15,
      "outputs": [
        {
          "output_type": "stream",
          "name": "stdout",
          "text": [
            "Enter a number: 5\n",
            "The number is Positive.\n"
          ]
        }
      ]
    },
    {
      "cell_type": "code",
      "source": [
        "# 12) Write a for loop to print numbers from 1 to 100\n",
        "# Using a for loop to print numbers from 1 to 100\n",
        "for num in range(1, 101):\n",
        "    print(num)\n"
      ],
      "metadata": {
        "colab": {
          "base_uri": "https://localhost:8080/",
          "height": 0
        },
        "id": "Bw9wwFSAnJxx",
        "outputId": "767c000b-5484-4a40-dafa-c52237a57790"
      },
      "execution_count": 16,
      "outputs": [
        {
          "output_type": "stream",
          "name": "stdout",
          "text": [
            "1\n",
            "2\n",
            "3\n",
            "4\n",
            "5\n",
            "6\n",
            "7\n",
            "8\n",
            "9\n",
            "10\n",
            "11\n",
            "12\n",
            "13\n",
            "14\n",
            "15\n",
            "16\n",
            "17\n",
            "18\n",
            "19\n",
            "20\n",
            "21\n",
            "22\n",
            "23\n",
            "24\n",
            "25\n",
            "26\n",
            "27\n",
            "28\n",
            "29\n",
            "30\n",
            "31\n",
            "32\n",
            "33\n",
            "34\n",
            "35\n",
            "36\n",
            "37\n",
            "38\n",
            "39\n",
            "40\n",
            "41\n",
            "42\n",
            "43\n",
            "44\n",
            "45\n",
            "46\n",
            "47\n",
            "48\n",
            "49\n",
            "50\n",
            "51\n",
            "52\n",
            "53\n",
            "54\n",
            "55\n",
            "56\n",
            "57\n",
            "58\n",
            "59\n",
            "60\n",
            "61\n",
            "62\n",
            "63\n",
            "64\n",
            "65\n",
            "66\n",
            "67\n",
            "68\n",
            "69\n",
            "70\n",
            "71\n",
            "72\n",
            "73\n",
            "74\n",
            "75\n",
            "76\n",
            "77\n",
            "78\n",
            "79\n",
            "80\n",
            "81\n",
            "82\n",
            "83\n",
            "84\n",
            "85\n",
            "86\n",
            "87\n",
            "88\n",
            "89\n",
            "90\n",
            "91\n",
            "92\n",
            "93\n",
            "94\n",
            "95\n",
            "96\n",
            "97\n",
            "98\n",
            "99\n",
            "100\n"
          ]
        }
      ]
    },
    {
      "cell_type": "code",
      "source": [
        "# 13) Write a Python program to find the sum of all even numbers between 1 and 50\n",
        "# Initialize sum variable\n",
        "even_sum = 0\n",
        "\n",
        "# Loop through numbers from 1 to 50\n",
        "for num in range(2, 51, 2):  # Start at 2, go up to 50, step by 2\n",
        "    even_sum += num  # Add the even number to sum\n",
        "\n",
        "# Print the result\n",
        "print(\"Sum of even numbers between 1 and 50:\", even_sum)\n"
      ],
      "metadata": {
        "colab": {
          "base_uri": "https://localhost:8080/",
          "height": 0
        },
        "id": "k5erSidxnZIK",
        "outputId": "09e18a4b-32d0-4590-d52b-d1e666fe8102"
      },
      "execution_count": 17,
      "outputs": [
        {
          "output_type": "stream",
          "name": "stdout",
          "text": [
            "Sum of even numbers between 1 and 50: 650\n"
          ]
        }
      ]
    },
    {
      "cell_type": "code",
      "source": [
        "# 14) Write a program to reverse a string using a while loop\n",
        "# Take user input\n",
        "text = input(\"Enter a string: \")\n",
        "\n",
        "# Initialize variables\n",
        "reversed_text = \"\"\n",
        "index = len(text) - 1  # Start from the last character\n",
        "\n",
        "# Loop through the string in reverse order\n",
        "while index >= 0:\n",
        "    reversed_text += text[index]  # Append each character in reverse\n",
        "    index -= 1  # Move to the previous character\n",
        "\n",
        "# Print the reversed string\n",
        "print(\"Reversed string:\", reversed_text)\n"
      ],
      "metadata": {
        "colab": {
          "base_uri": "https://localhost:8080/",
          "height": 0
        },
        "id": "LdsOIrsWnsM4",
        "outputId": "a290e189-88d0-40b6-dad9-dffbe04c9c1a"
      },
      "execution_count": 19,
      "outputs": [
        {
          "output_type": "stream",
          "name": "stdout",
          "text": [
            "Enter a string: 85\n",
            "Reversed string: 58\n"
          ]
        }
      ]
    },
    {
      "cell_type": "code",
      "source": [
        "# 15) Write a Python program to calculate the factorial of a number provided by the user using a while loop\n",
        "# Take user input\n",
        "num = int(input(\"Enter a number: \"))\n",
        "\n",
        "# Initialize factorial result and counter\n",
        "factorial = 1\n",
        "i = num\n",
        "\n",
        "# Calculate factorial using a while loop\n",
        "while i > 1:\n",
        "    factorial *= i  # Multiply the current number\n",
        "    i -= 1  # Decrease the counter\n",
        "\n",
        "# Print the result\n",
        "print(f\"Factorial of {num} is {factorial}\")\n"
      ],
      "metadata": {
        "colab": {
          "base_uri": "https://localhost:8080/",
          "height": 0
        },
        "id": "h8wqw-kQn-_P",
        "outputId": "89a7ff4c-6a74-4df5-fe9d-0ab8e5f6d096"
      },
      "execution_count": 20,
      "outputs": [
        {
          "output_type": "stream",
          "name": "stdout",
          "text": [
            "Enter a number: 78\n",
            "Factorial of 78 is 11324281178206297831457521158732046228731749579488251990048962825668835325234200766245086213177344000000000000000000\n"
          ]
        }
      ]
    },
    {
      "cell_type": "code",
      "source": [],
      "metadata": {
        "id": "apNsBVFwmlex"
      },
      "execution_count": null,
      "outputs": []
    }
  ]
}